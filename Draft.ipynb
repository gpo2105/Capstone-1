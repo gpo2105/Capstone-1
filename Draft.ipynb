{
 "cells": [
  {
   "cell_type": "markdown",
   "id": "d6ff9f24",
   "metadata": {},
   "source": [
    "# Project Introduction"
   ]
  },
  {
   "cell_type": "markdown",
   "id": "f6e9d48c",
   "metadata": {},
   "source": [
    "__[Department of Transportation's Responsibilities](https://www.google.com/search?client=safari&rls=en&q=department+of+transportation+responsibilities&ie=UTF-8&oe=UTF-8)__\n",
    "\n",
    "Through this dataset, I have identified the three following patterns:\n",
    "1. IDEA 1 w/ LOCAL LINK\n",
    "2. IDEA 2 w/ LOCAL LINK\n",
    "3. IDEA 3 w/ LOCAL LINK"
   ]
  },
  {
   "cell_type": "markdown",
   "id": "c39ce2a8",
   "metadata": {},
   "source": [
    "## Resources:\n",
    "\n",
    "- __[Kaggle-Full](https://www.kaggle.com/datasets/sobhanmoosavi/us-accidents/data)__\n",
    "\n",
    "- __[Kaggle-Sampled](https://drive.google.com/file/d/1U3u8QYzLjnEaSurtZfSAS_oh9AT2Mn8X/edit)__\n",
    "\n",
    "- __[Bing API](https://learn.microsoft.com/en-us/bingmaps/rest-services/traffic/get-traffic-incidents#supported-http-methods)__\n",
    "\n",
    "- __[MQuest API](https://developer.mapquest.com/documentation/api/traffic/incidents/get.html)__\n",
    "\n",
    "- __['A Countrywide Traffic Accident Dataset'](https://arxiv.org/pdf/1906.05409)__\n",
    "\n",
    "- __['Accident Risk Prediction based on Heterogenous Sparse Data: New Dataset & Insights](https://arxiv.org/pdf/1909.09638)__\n",
    "\n",
    "- __['Census Data'](https://www.census.gov/acs/www/data/data-tables-and-tools/subject-tables/)__"
   ]
  },
  {
   "cell_type": "markdown",
   "id": "abe8832b",
   "metadata": {},
   "source": [
    "# 1-Setup Environment"
   ]
  },
  {
   "cell_type": "markdown",
   "id": "1a277507",
   "metadata": {},
   "source": [
    "## Libraries"
   ]
  },
  {
   "cell_type": "code",
   "execution_count": null,
   "id": "bf39de13",
   "metadata": {},
   "outputs": [],
   "source": [
    "#Utilities\n",
    "import warnings\n",
    "import os\n",
    "\n",
    "# Data Basics\n",
    "import pandas as pd\n",
    "import numpy as np\n",
    "import missingno as msgno\n",
    "\n",
    "#Time Data\n",
    "from datetime import date, timedelta\n",
    "\n",
    "\n",
    "#PySpark\n",
    "from pyspark.sql import SparkSession\n",
    "from pyspark.mllib.stat import Statistics\n",
    "import pyspark.sql.functions as F\n",
    "\n",
    "#Visuals\n",
    "import matplotlib.pyplot as plt\n",
    "import seaborn as sns\n",
    "\n",
    "\n",
    "# Statistical Analysis\n",
    "from scipy.stats import zscore, f_oneway, chi2_contingency, chisquare\n",
    "import statsmodels.api as sm\n",
    "from statsmodels.formula.api import ols\n",
    "from sklearn.decomposition import PCA\n",
    "from sklearn.cluster import KMeans\n",
    "from sklearn.metrics import silhouette_score\n",
    "from yellowbrick.cluster import KElbowVisualizer, SilhouetteVisualizer\n",
    "from sklearn.preprocessing import StandardScaler, OneHotEncoder\n",
    "\n",
    "\n",
    "# Spatial Tools\n",
    "import geopy\n",
    "import geopy.distance\n",
    "import census\n",
    "import requests"
   ]
  },
  {
   "cell_type": "markdown",
   "id": "25561598",
   "metadata": {},
   "source": [
    "## Info on New Libraries\n",
    "For improved analysis, these libraries were included, but not covered in the course material:\n",
    "\n",
    "- __[Geopy:  ](https://geopy.readthedocs.io/en/stable/)__\n",
    "\n",
    "- Census:\n",
    "    * __[PyPi](https://pypi.org/project/census/)__\n",
    "    * __[API](https://www.census.gov/data/developers/guidance/api-user-guide.html)__\n",
    "\n",
    "- MissingNo:  \n",
    "    * __[Library](https://github.com/ResidentMario/missingno)__\n",
    "    \n",
    "    * __[Tutorial](https://www.geeksforgeeks.org/python-visualize-missing-values-nan-values-using-missingno-library/)__\n",
    "\n",
    "- __[Yellowbrick](https://www.scikit-yb.org/en/latest/)__"
   ]
  },
  {
   "cell_type": "markdown",
   "id": "2acc8401",
   "metadata": {},
   "source": [
    "## Settings"
   ]
  },
  {
   "cell_type": "code",
   "execution_count": null,
   "id": "f8091e2d",
   "metadata": {},
   "outputs": [],
   "source": [
    "pd.set_option('display.max_columns', None)\n",
    "pd.set_option('display.float_format', lambda x: '%.3f' % x)\n",
    "pd.set_option('display.width', 500)\n",
    "_LITE_SWITCH_ = False\n",
    "_SPARK_ = False"
   ]
  },
  {
   "cell_type": "markdown",
   "id": "1eea05ea",
   "metadata": {},
   "source": [
    "## Custom Functions"
   ]
  },
  {
   "cell_type": "code",
   "execution_count": null,
   "id": "4cf03d80",
   "metadata": {},
   "outputs": [],
   "source": [
    "# For High-level data exploration\n",
    "def count_outliers(df_col,cap=3):\n",
    "    zs = zscore(df_col)\n",
    "    return df_col[zs > cap].shape[0]"
   ]
  },
  {
   "cell_type": "markdown",
   "id": "e6bb23fb",
   "metadata": {},
   "source": [
    "## Load Dataset(s)"
   ]
  },
  {
   "cell_type": "markdown",
   "id": "2cb4ca8a",
   "metadata": {},
   "source": [
    "### Main Dataset\n",
    "Will depend on settings: lite_switch gives option to use the scaled down dataset.  _SPARK_ will give option of loading with pyspark (which will also determine functionality through out project)."
   ]
  },
  {
   "cell_type": "code",
   "execution_count": null,
   "id": "b24ecb1d",
   "metadata": {},
   "outputs": [],
   "source": [
    "if _SPARK_:\n",
    "    spark = SparkSession.builder.appName(\"Accident Data Project\").getOrCreate()\n",
    "    data = spark.read.csv('US_Accidents_March23.csv',header=True,inferSchema=True)\n",
    "else:\n",
    "    if _LITE_SWITCH_:\n",
    "        data = pd.read_csv('US_Accidents_March23_sampled_500k.csv')\n",
    "    else:\n",
    "        data = pd.read_csv('US_Accidents_March23.csv')    "
   ]
  },
  {
   "cell_type": "markdown",
   "id": "692cb090",
   "metadata": {},
   "source": [
    "### Other User-Built Datasets"
   ]
  },
  {
   "cell_type": "code",
   "execution_count": null,
   "id": "54e7f049",
   "metadata": {},
   "outputs": [],
   "source": []
  },
  {
   "cell_type": "markdown",
   "id": "7362b13e",
   "metadata": {},
   "source": [
    "# 2-Initial EDA"
   ]
  },
  {
   "cell_type": "markdown",
   "id": "26ff5a66",
   "metadata": {},
   "source": [
    "## Schema & Feature Basics"
   ]
  },
  {
   "cell_type": "code",
   "execution_count": null,
   "id": "0d1b5577",
   "metadata": {},
   "outputs": [],
   "source": [
    "if _SPARK_:\n",
    "    data.printSchema()\n",
    "    print(\"Features: \",len(data.columns))\n",
    "    print(\"Entries:  \",data.count())\n",
    "else:\n",
    "    data.info()"
   ]
  },
  {
   "cell_type": "markdown",
   "id": "d21a470f",
   "metadata": {},
   "source": []
  },
  {
   "cell_type": "markdown",
   "id": "e770c73e",
   "metadata": {},
   "source": [
    "Notes on dimensionality and data types as well as discussion of each feature based on research."
   ]
  },
  {
   "cell_type": "code",
   "execution_count": 1,
   "id": "ef1e7def",
   "metadata": {},
   "outputs": [],
   "source": [
    "# Organize features into global variables:"
   ]
  },
  {
   "cell_type": "markdown",
   "id": "80875f79",
   "metadata": {},
   "source": []
  },
  {
   "cell_type": "markdown",
   "id": "21ab7f48",
   "metadata": {},
   "source": [
    "## Missing Values"
   ]
  },
  {
   "cell_type": "code",
   "execution_count": null,
   "id": "00018eee",
   "metadata": {},
   "outputs": [],
   "source": [
    "if _SPARK_:\n",
    "    missing = data.select(*[F.sum(F.isnull(F.col(c)).cast(\"int\")).alias(c) for c in data.columns])\n",
    "    print(missing.show(vertical=True))\n",
    "else:\n",
    "    print(data.isna().sum().sort_values(ascending=False))"
   ]
  },
  {
   "cell_type": "markdown",
   "id": "86b82952",
   "metadata": {},
   "source": [
    "Note on missing data generalities before deeper explorations"
   ]
  },
  {
   "cell_type": "code",
   "execution_count": null,
   "id": "d9f3364e",
   "metadata": {},
   "outputs": [],
   "source": []
  },
  {
   "cell_type": "markdown",
   "id": "2df9b369",
   "metadata": {},
   "source": [
    "## Duplicates\n",
    "\n",
    "There are no duplicates to deal with:"
   ]
  },
  {
   "cell_type": "code",
   "execution_count": null,
   "id": "843b6cea",
   "metadata": {},
   "outputs": [],
   "source": [
    "if _SPARK_:\n",
    "    duplicates = int(data.count() - data.dropDuplicates().count())\n",
    "    duplicates.show()\n",
    "else:\n",
    "    print(data.duplicated().sum())"
   ]
  },
  {
   "cell_type": "markdown",
   "id": "1e90bea6",
   "metadata": {},
   "source": [
    "## Outliers"
   ]
  },
  {
   "cell_type": "code",
   "execution_count": null,
   "id": "ceefd5a0",
   "metadata": {},
   "outputs": [],
   "source": [
    "if _SPARK_:\n",
    "    pass\n",
    "else:\n",
    "    print(pd.DataFrame({c:{z:count_outliers(data[c],z) for z in [3,5,10,15,20]} for c in _NUMERICS_}).T)"
   ]
  },
  {
   "cell_type": "markdown",
   "id": "5603632b",
   "metadata": {},
   "source": [
    "Distance seems to be the only feature in the original dataset (lite or full) that has significant outliers."
   ]
  },
  {
   "cell_type": "markdown",
   "id": "045b01bf",
   "metadata": {},
   "source": [
    "## High-Level Features"
   ]
  },
  {
   "cell_type": "markdown",
   "id": "f9bdb837",
   "metadata": {},
   "source": [
    "### Nature of Accident\n",
    "\n",
    "We will eventually create another feature to describe the nature of any accident but for now, we have severity (a discrete variable) and distance."
   ]
  },
  {
   "cell_type": "code",
   "execution_count": null,
   "id": "b9e63433",
   "metadata": {},
   "outputs": [],
   "source": []
  },
  {
   "cell_type": "markdown",
   "id": "ec2938a1",
   "metadata": {},
   "source": [
    "Any comment on severity"
   ]
  },
  {
   "cell_type": "code",
   "execution_count": null,
   "id": "1ed4635b",
   "metadata": {},
   "outputs": [],
   "source": []
  },
  {
   "cell_type": "markdown",
   "id": "b832cfb0",
   "metadata": {},
   "source": [
    "Any comment on distance."
   ]
  },
  {
   "cell_type": "markdown",
   "id": "db0e392e",
   "metadata": {},
   "source": [
    "### Time Features"
   ]
  },
  {
   "cell_type": "markdown",
   "id": "d8d4214d",
   "metadata": {},
   "source": [
    "To explore properly, we need to convert to datetime type (from pandas).  Also, need to convert into seconds and then into hours."
   ]
  },
  {
   "cell_type": "markdown",
   "id": "62352b91",
   "metadata": {},
   "source": [
    "It is required to set the 'format' parameter to \"mixed\".  (Too many observations to understand why / explore observations setting off the error.)\n"
   ]
  },
  {
   "cell_type": "code",
   "execution_count": null,
   "id": "03e19c83",
   "metadata": {},
   "outputs": [],
   "source": [
    "start = pd.to_datetime(data['Start_Time'],format='mixed')\n",
    "end = pd.to_datetime(data['End_Time'],format='mixed')\n",
    "time_change = (end - start).astype('timedelta64[s]').dt.seconds/360\n",
    "time_change"
   ]
  },
  {
   "cell_type": "code",
   "execution_count": null,
   "id": "8523f871",
   "metadata": {},
   "outputs": [],
   "source": [
    "time_change.describe()"
   ]
  },
  {
   "cell_type": "markdown",
   "id": "32db81d2",
   "metadata": {},
   "source": [
    "Comments & Actions"
   ]
  },
  {
   "cell_type": "markdown",
   "id": "b10c8a2b",
   "metadata": {},
   "source": [
    "### Address Features"
   ]
  },
  {
   "cell_type": "code",
   "execution_count": null,
   "id": "0837f158",
   "metadata": {},
   "outputs": [],
   "source": [
    "data['Country'].value_counts()"
   ]
  },
  {
   "cell_type": "markdown",
   "id": "07f687ac",
   "metadata": {},
   "source": [
    "Comments & Actions"
   ]
  },
  {
   "cell_type": "markdown",
   "id": "7f86e11a",
   "metadata": {},
   "source": [
    "#### Address: State, City, Zip, Aiport Code"
   ]
  },
  {
   "cell_type": "code",
   "execution_count": 2,
   "id": "3ee92495",
   "metadata": {},
   "outputs": [
    {
     "ename": "NameError",
     "evalue": "name 'data' is not defined",
     "output_type": "error",
     "traceback": [
      "\u001b[0;31m---------------------------------------------------------------------------\u001b[0m",
      "\u001b[0;31mNameError\u001b[0m                                 Traceback (most recent call last)",
      "Cell \u001b[0;32mIn[2], line 2\u001b[0m\n\u001b[1;32m      1\u001b[0m \u001b[38;5;66;03m# Check for bad strings\u001b[39;00m\n\u001b[0;32m----> 2\u001b[0m unclean \u001b[38;5;241m=\u001b[39m data[\u001b[38;5;124m'\u001b[39m\u001b[38;5;124mState\u001b[39m\u001b[38;5;124m'\u001b[39m]\u001b[38;5;241m.\u001b[39mstr\u001b[38;5;241m.\u001b[39mstartswith(\u001b[38;5;124m'\u001b[39m\u001b[38;5;124m \u001b[39m\u001b[38;5;124m'\u001b[39m)\u001b[38;5;241m.\u001b[39msum() \u001b[38;5;241m+\u001b[39m data[\u001b[38;5;124m'\u001b[39m\u001b[38;5;124mState\u001b[39m\u001b[38;5;124m'\u001b[39m]\u001b[38;5;241m.\u001b[39mstr\u001b[38;5;241m.\u001b[39mendswith(\u001b[38;5;124m'\u001b[39m\u001b[38;5;124m \u001b[39m\u001b[38;5;124m'\u001b[39m)\u001b[38;5;241m.\u001b[39msum()\n\u001b[1;32m      3\u001b[0m unclean\n",
      "\u001b[0;31mNameError\u001b[0m: name 'data' is not defined"
     ]
    }
   ],
   "source": [
    "# Check for bad strings\n",
    "unclean = data['State'].str.startswith(' ').sum() + data['State'].str.endswith(' ').sum()\n",
    "unclean"
   ]
  },
  {
   "cell_type": "code",
   "execution_count": null,
   "id": "b0b832e9",
   "metadata": {},
   "outputs": [],
   "source": [
    "data['State'].value_counts(dropna=False,normalize=True)"
   ]
  },
  {
   "cell_type": "markdown",
   "id": "27c6dcd9",
   "metadata": {},
   "source": [
    "Comments & Actions.  Concerns about balance?"
   ]
  },
  {
   "cell_type": "code",
   "execution_count": 3,
   "id": "4a52fd01",
   "metadata": {},
   "outputs": [
    {
     "ename": "NameError",
     "evalue": "name 'data' is not defined",
     "output_type": "error",
     "traceback": [
      "\u001b[0;31m---------------------------------------------------------------------------\u001b[0m",
      "\u001b[0;31mNameError\u001b[0m                                 Traceback (most recent call last)",
      "Cell \u001b[0;32mIn[3], line 2\u001b[0m\n\u001b[1;32m      1\u001b[0m \u001b[38;5;66;03m# Same Double Check\u001b[39;00m\n\u001b[0;32m----> 2\u001b[0m unclean \u001b[38;5;241m=\u001b[39m data[\u001b[38;5;124m'\u001b[39m\u001b[38;5;124mCity\u001b[39m\u001b[38;5;124m'\u001b[39m]\u001b[38;5;241m.\u001b[39mstr\u001b[38;5;241m.\u001b[39mstartswith(\u001b[38;5;124m'\u001b[39m\u001b[38;5;124m \u001b[39m\u001b[38;5;124m'\u001b[39m)\u001b[38;5;241m.\u001b[39msum() \u001b[38;5;241m+\u001b[39m data[\u001b[38;5;124m'\u001b[39m\u001b[38;5;124mCity\u001b[39m\u001b[38;5;124m'\u001b[39m]\u001b[38;5;241m.\u001b[39mstr\u001b[38;5;241m.\u001b[39mendswith(\u001b[38;5;124m'\u001b[39m\u001b[38;5;124m \u001b[39m\u001b[38;5;124m'\u001b[39m)\u001b[38;5;241m.\u001b[39msum()\n\u001b[1;32m      3\u001b[0m unclean\n",
      "\u001b[0;31mNameError\u001b[0m: name 'data' is not defined"
     ]
    }
   ],
   "source": [
    "# Same Double Check\n",
    "unclean = data['City'].str.startswith(' ').sum() + data['City'].str.endswith(' ').sum()\n",
    "unclean"
   ]
  },
  {
   "cell_type": "code",
   "execution_count": null,
   "id": "c54063b0",
   "metadata": {},
   "outputs": [],
   "source": [
    "data['City'].value_counts(dropna=False,normalize=True).sort_values(ascending=False).head(25)"
   ]
  },
  {
   "cell_type": "markdown",
   "id": "86fa887e",
   "metadata": {},
   "source": [
    "Comments & Actions.  Concerns about balance?"
   ]
  },
  {
   "cell_type": "code",
   "execution_count": null,
   "id": "c26c8d71",
   "metadata": {},
   "outputs": [],
   "source": [
    "unclean = data['Zipcode'].str.startswith(' ').sum() + data['Zipcode'].str.endswith(' ').sum()\n",
    "unclean"
   ]
  },
  {
   "cell_type": "code",
   "execution_count": null,
   "id": "b8508fb9",
   "metadata": {},
   "outputs": [],
   "source": [
    "data['Zipcode'].value_counts(dropna=False,normalize=True).sort_values(ascending=False)"
   ]
  },
  {
   "cell_type": "markdown",
   "id": "bc0c6e3b",
   "metadata": {},
   "source": [
    "Comments & Actions.  Concerns about balance?"
   ]
  },
  {
   "cell_type": "code",
   "execution_count": null,
   "id": "a091223a",
   "metadata": {},
   "outputs": [],
   "source": [
    "unclean = data['Airport_Code'].str.startswith(' ').sum() + data['Airport_Code'].str.endswith(' ').sum()\n",
    "unclean"
   ]
  },
  {
   "cell_type": "code",
   "execution_count": null,
   "id": "f2b03491",
   "metadata": {},
   "outputs": [],
   "source": [
    "data['Airport_Code'].value_counts(dropna=False,normalize=True).sort_values(ascending=False)"
   ]
  },
  {
   "cell_type": "markdown",
   "id": "85aac600",
   "metadata": {},
   "source": [
    "#### Street Type"
   ]
  },
  {
   "cell_type": "code",
   "execution_count": null,
   "id": "e07ee250",
   "metadata": {},
   "outputs": [],
   "source": [
    "unclean = data['Street'].str.startswith(' ').sum() + data['Street'].str.endswith(' ').sum()\n",
    "unclean"
   ]
  },
  {
   "cell_type": "code",
   "execution_count": null,
   "id": "263bb52d",
   "metadata": {},
   "outputs": [],
   "source": [
    "streets = data['Street'].str.strip()"
   ]
  },
  {
   "cell_type": "code",
   "execution_count": null,
   "id": "a6b16c91",
   "metadata": {},
   "outputs": [],
   "source": [
    "unclean = streets.str.startswith(' ').sum() + streets.str.endswith(' ').sum()\n",
    "unclean"
   ]
  },
  {
   "cell_type": "code",
   "execution_count": null,
   "id": "459438f4",
   "metadata": {},
   "outputs": [],
   "source": [
    "streets.value_counts(dropna=False,normalize=True).sort_values(ascending=False).head(25)"
   ]
  },
  {
   "cell_type": "markdown",
   "id": "883de648",
   "metadata": {},
   "source": [
    "Comments and Action Recommendations but experiment first based on the namking conventions discussed in these resources:\n",
    "\n",
    "Resources on Road Types & Naming Syntax:\n",
    "__[Google](https://www.google.com/search?q=us+highways+and+interstates&client=safari&sca_esv=a2d3658fd380a756&rls=en&ei=t65JaN2uMMKh5NoPo6mVkQo&oq=US+highways+vs%C2%A0&gs_lp=Egxnd3Mtd2l6LXNlcnAaAhgCIhBVUyBoaWdod2F5cyB2c8KgKgIIADILEAAYgAQYkQIYigUyBxAAGIAEGAoyBRAAGIAEMgYQABgWGB4yBhAAGBYYHjIGEAAYFhgeMgsQABiABBiGAxiKBTILEAAYgAQYhgMYigUyCxAAGIAEGIYDGIoFMggQABiABBiiBEiDTFDVDFjWP3AFeAGQAQCYAXOgAdcKqgEEMTYuMbgBAcgBAPgBAZgCFqACgwzCAgoQABiwAxjWBBhHwgIKEAAYgAQYQxiKBcICERAuGIAEGLEDGNEDGIMBGMcBwgILEAAYgAQYsQMYgwHCAgUQLhiABMICDhAuGIAEGLEDGIMBGNQCwgILEAAYgAQYsQMYiwPCAggQABiABBiLA8ICCBAAGIAEGLEDwgIKEC4YgAQYQxiKBcICERAAGIAEGJECGLEDGIMBGIoFwgIEEAAYA8ICBRAhGKABmAMAiAYBkAYIkgcEMjEuMaAHl26yBwQxNi4xuAfmC8IHBjItMTYuNsgHhwE&sclient=gws-wiz-serp)__ on the difference between US numbered highways and US interstate highway system\n",
    "\n",
    "https://99percentinvisible.org/article/beyond-streets-avenues-simple-visual-guide-different-types-roads/\n"
   ]
  },
  {
   "cell_type": "markdown",
   "id": "f9eb9bec",
   "metadata": {},
   "source": [
    "Federal Roads.  Highways & Interstates"
   ]
  },
  {
   "cell_type": "code",
   "execution_count": null,
   "id": "1551ef01",
   "metadata": {},
   "outputs": [],
   "source": [
    "highways = streets.str.startswith('US').sum()+ streets.str.startswith('United States').sum()\n",
    "\n",
    "interstates = streets.str.startswith('I-').sum() + streets.str.startswith('Interstate').sum()\n",
    "\n",
    "fed_roads = highways + interstates\n",
    "\n",
    "msg = f'There are roughly {fed_roads} incidents which occured on a federal roads:  '\n",
    "msg += f'{highways} on a numbered highways and {interstates} interstates.'\n",
    "\n",
    "print(msg)"
   ]
  },
  {
   "cell_type": "markdown",
   "id": "4b442525",
   "metadata": {},
   "source": [
    "Routes"
   ]
  },
  {
   "cell_type": "code",
   "execution_count": null,
   "id": "85943809",
   "metadata": {},
   "outputs": [],
   "source": []
  },
  {
   "cell_type": "code",
   "execution_count": null,
   "id": "79b3e8e9",
   "metadata": {},
   "outputs": [],
   "source": []
  },
  {
   "cell_type": "markdown",
   "id": "1901f22e",
   "metadata": {},
   "source": [
    "### Weather"
   ]
  },
  {
   "cell_type": "markdown",
   "id": "06a7b438",
   "metadata": {},
   "source": [
    "#### Quantitative Features"
   ]
  },
  {
   "cell_type": "code",
   "execution_count": null,
   "id": "fb5f83d2",
   "metadata": {},
   "outputs": [],
   "source": [
    "weather_factors = ['Temperature(F)','Wind_Chill(F)',\n",
    "                   'Humidity(%)','Pressure(in)',\n",
    "                   'Visibility(mi)','Wind_Speed(mph)',\n",
    "                   'Precipitation(in)']\n",
    "\n",
    "data[weather_factors].describe()"
   ]
  },
  {
   "cell_type": "markdown",
   "id": "d4f2510d",
   "metadata": {},
   "source": [
    "Comments & actions (if needed.)"
   ]
  },
  {
   "cell_type": "markdown",
   "id": "88186e45",
   "metadata": {},
   "source": [
    "#### Categorical Features"
   ]
  },
  {
   "cell_type": "code",
   "execution_count": null,
   "id": "d7c65ca9",
   "metadata": {},
   "outputs": [],
   "source": [
    "weather_descriptions = data['Weather_Condition'].unique()\n",
    "print(f'There are {weather_descriptions.shape[0]} ways that the weather is described in this dataset: \\n')\n",
    "print(weather_descriptions)"
   ]
  },
  {
   "cell_type": "code",
   "execution_count": null,
   "id": "f3135046",
   "metadata": {},
   "outputs": [],
   "source": [
    "weather_desc_counts = data['Weather_Condition'].value_counts(dropna=False,normalize=True)\n",
    "weather_desc_counts.sort_values(ascending=False).head(25).plot()"
   ]
  },
  {
   "cell_type": "markdown",
   "id": "6eabc86c",
   "metadata": {},
   "source": [
    "Comments & Action Recommendations"
   ]
  },
  {
   "cell_type": "markdown",
   "id": "444a3c2d",
   "metadata": {},
   "source": [
    "### Night/Day Features\n",
    "\n",
    "There appears to be multiple indicators for day/night that need to be explored.  According to __[Google](https://www.google.com/search?q=different+types+of+twilight&rlz=1C5OZZY_enUS1127US1127&oq=different+types+of+twilight&gs_lcrp=EgZjaHJvbWUyCQgAEEUYORiABDIICAEQABgWGB4yCAgCEAAYFhgeMggIAxAAGBYYHjIICAQQABgWGB4yDQgFEAAYhgMYgAQYigUyDQgGEAAYhgMYgAQYigUyDQgHEAAYhgMYgAQYigUyDQgIEAAYhgMYgAQYigUyCggJEAAYgAQYogTSAQg0NjU3ajFqN6gCALACAA&sourceid=chrome&ie=UTF-8)__, Nautical, Astronomical and Civil all have precise definitions--based on usage--that do not, to me, inform as to how their distinctions contribute to understanding accident patterns.  And as you can see below, there is no clear pattern in how they differ from one another in classifying day vs night.\n",
    "\n",
    "Ultimately, I think dropping all of them except for Sunrise_Sunset is for the best.  "
   ]
  },
  {
   "cell_type": "markdown",
   "id": "bcac78bb",
   "metadata": {},
   "source": [
    "### Night/Day Features\n",
    "\n",
    "There appears to be multiple indicators for day/night that need to be explored.  According to __[Google](https://www.google.com/search?q=different+types+of+twilight&rlz=1C5OZZY_enUS1127US1127&oq=different+types+of+twilight&gs_lcrp=EgZjaHJvbWUyCQgAEEUYORiABDIICAEQABgWGB4yCAgCEAAYFhgeMggIAxAAGBYYHjIICAQQABgWGB4yDQgFEAAYhgMYgAQYigUyDQgGEAAYhgMYgAQYigUyDQgHEAAYhgMYgAQYigUyDQgIEAAYhgMYgAQYigUyCggJEAAYgAQYogTSAQg0NjU3ajFqN6gCALACAA&sourceid=chrome&ie=UTF-8)__, Nautical, Astronomical and Civil all have precise definitions--based on usage--that do not, to me, inform as to how their distinctions contribute to understanding accident patterns.  "
   ]
  },
  {
   "cell_type": "code",
   "execution_count": null,
   "id": "fe1280e5",
   "metadata": {},
   "outputs": [],
   "source": []
  },
  {
   "cell_type": "code",
   "execution_count": null,
   "id": "231fc7fc",
   "metadata": {},
   "outputs": [],
   "source": []
  },
  {
   "cell_type": "code",
   "execution_count": null,
   "id": "890d550b",
   "metadata": {},
   "outputs": [],
   "source": []
  },
  {
   "cell_type": "markdown",
   "id": "57800c2d",
   "metadata": {},
   "source": [
    " And as you can see, there is no clear pattern in how they differ from one another in classifying day vs night.\n",
    "\n",
    "Ultimately, I think dropping all of them except for Sunrise_Sunset is for the best."
   ]
  },
  {
   "cell_type": "markdown",
   "id": "528222ee",
   "metadata": {},
   "source": [
    "### Infrastructure\n",
    "Twelve binary features indicating the existance of a traffic design or a PoI."
   ]
  },
  {
   "cell_type": "code",
   "execution_count": null,
   "id": "f74b54d6",
   "metadata": {},
   "outputs": [],
   "source": [
    "infrastructures = ['Amenity','Bump','Crossing','Give_Way',\n",
    "                   'Junction','No_Exit','Railway','Roundabout',\n",
    "                   'Station','Stop','Traffic_Calming','Traffic_Signal',\n",
    "                   'Turning_Loop'\n",
    "                   ]"
   ]
  },
  {
   "cell_type": "markdown",
   "id": "868c4cb7",
   "metadata": {},
   "source": [
    "Need to verify what the definitions of each of these are..."
   ]
  },
  {
   "cell_type": "code",
   "execution_count": null,
   "id": "8971c5d7",
   "metadata": {},
   "outputs": [
    {
     "data": {
      "text/plain": [
       "Traffic_Signal     1143772\n",
       "Crossing            873763\n",
       "Junction            571342\n",
       "Stop                214371\n",
       "Station             201901\n",
       "Amenity              96334\n",
       "Railway              66979\n",
       "Give_Way             36582\n",
       "No_Exit              19545\n",
       "Traffic_Calming       7598\n",
       "Bump                  3514\n",
       "Roundabout             249\n",
       "Turning_Loop             0\n",
       "dtype: int64"
      ]
     },
     "metadata": {},
     "output_type": "display_data"
    }
   ],
   "source": [
    "data[infrastructures].sum().sort_values(ascending=False)"
   ]
  },
  {
   "cell_type": "markdown",
   "id": "366b2649",
   "metadata": {},
   "source": [
    "How often do these overlap?"
   ]
  },
  {
   "cell_type": "code",
   "execution_count": null,
   "id": "e380b28b",
   "metadata": {},
   "outputs": [],
   "source": [
    "data[infrastructures].sum(axis=1).value_counts()"
   ]
  },
  {
   "cell_type": "code",
   "execution_count": null,
   "id": "fe85ebf4",
   "metadata": {},
   "outputs": [],
   "source": [
    "sns.heatmap(data[infrastructures].corr(),vmin=-1,vmax=1,cmap='coolwarm');"
   ]
  },
  {
   "cell_type": "markdown",
   "id": "f939961c",
   "metadata": {},
   "source": []
  },
  {
   "cell_type": "markdown",
   "id": "9dccfcce",
   "metadata": {},
   "source": [
    "# 3-Data Processing"
   ]
  },
  {
   "cell_type": "markdown",
   "id": "36995c4c",
   "metadata": {},
   "source": [
    "Start with a brand new dataset"
   ]
  },
  {
   "cell_type": "code",
   "execution_count": null,
   "id": "8477fdb0",
   "metadata": {},
   "outputs": [],
   "source": [
    "del data\n",
    "if _SPARK_:\n",
    "    spark.stop()\n",
    "else:\n",
    "    pass"
   ]
  },
  {
   "cell_type": "code",
   "execution_count": null,
   "id": "489df642",
   "metadata": {},
   "outputs": [],
   "source": [
    "if _SPARK_:\n",
    "    spark = SparkSession.builder.appName(\"Accident Data Project\").getOrCreate()\n",
    "    data_clean = spark.read.csv('US_Accidents_March23.csv',header=True,inferSchema=True)\n",
    "else:\n",
    "    if _LITE_SWITCH_:\n",
    "        data_clean = pd.read_csv('US_Accidents_March23_sampled_500k.csv')\n",
    "    else:\n",
    "        data_clean = pd.read_csv('US_Accidents_March23.csv')\n",
    "    "
   ]
  },
  {
   "cell_type": "markdown",
   "id": "b62c580e",
   "metadata": {},
   "source": [
    "## Drop Unnecessary Columns\n",
    "Based on prior exploratory work."
   ]
  },
  {
   "cell_type": "code",
   "execution_count": null,
   "id": "177d245d",
   "metadata": {},
   "outputs": [],
   "source": []
  },
  {
   "cell_type": "code",
   "execution_count": null,
   "id": "fab5bb52",
   "metadata": {},
   "outputs": [],
   "source": []
  },
  {
   "cell_type": "code",
   "execution_count": null,
   "id": "9222d449",
   "metadata": {},
   "outputs": [],
   "source": []
  },
  {
   "cell_type": "markdown",
   "id": "69cf909f",
   "metadata": {},
   "source": [
    "## Missing Data"
   ]
  },
  {
   "cell_type": "markdown",
   "id": "03271fa9",
   "metadata": {},
   "source": [
    "### Ending Longitude/Latitude"
   ]
  },
  {
   "cell_type": "code",
   "execution_count": null,
   "id": "055c4653",
   "metadata": {},
   "outputs": [],
   "source": []
  },
  {
   "cell_type": "markdown",
   "id": "3b3d1d22",
   "metadata": {},
   "source": [
    "### Weather"
   ]
  },
  {
   "cell_type": "code",
   "execution_count": null,
   "id": "3f0520a3",
   "metadata": {},
   "outputs": [],
   "source": []
  },
  {
   "cell_type": "markdown",
   "id": "27ed2ad8",
   "metadata": {},
   "source": [
    "### Description"
   ]
  },
  {
   "cell_type": "code",
   "execution_count": null,
   "id": "08922e82",
   "metadata": {},
   "outputs": [],
   "source": []
  },
  {
   "cell_type": "markdown",
   "id": "35ec1a24",
   "metadata": {},
   "source": [
    "### Address"
   ]
  },
  {
   "cell_type": "code",
   "execution_count": null,
   "id": "87f57c60",
   "metadata": {},
   "outputs": [],
   "source": []
  },
  {
   "cell_type": "markdown",
   "id": "8a95af62",
   "metadata": {},
   "source": [
    "## Outliers"
   ]
  },
  {
   "cell_type": "code",
   "execution_count": null,
   "id": "22655f18",
   "metadata": {},
   "outputs": [],
   "source": []
  },
  {
   "cell_type": "code",
   "execution_count": null,
   "id": "7772aae9",
   "metadata": {},
   "outputs": [],
   "source": []
  },
  {
   "cell_type": "markdown",
   "id": "751d0b1c",
   "metadata": {},
   "source": [
    "## Create Dates Data\n",
    "### <a id='datetimes'> Converting dates </a>"
   ]
  },
  {
   "cell_type": "code",
   "execution_count": null,
   "id": "abdcf674",
   "metadata": {},
   "outputs": [],
   "source": [
    "if _SPARK_:\n",
    "    pass\n",
    "else:\n",
    "    data_clean['Start'] = pd.to_datetime(data_clean['Start_Time'],format='mixed')\n",
    "    data_clean['End'] = pd.to_datetime(data_clean['End_Time'],format='mixed')"
   ]
  },
  {
   "cell_type": "markdown",
   "id": "ad986913",
   "metadata": {},
   "source": [
    "And create a new target feature describing the nature of the accident as a function of time."
   ]
  },
  {
   "cell_type": "code",
   "execution_count": null,
   "id": "80fd8c6d",
   "metadata": {},
   "outputs": [],
   "source": [
    "data_clean['Time_of_Impact(hr)'] = (data_clean['End'] - data_clean['Start']).dt.seconds/360"
   ]
  },
  {
   "cell_type": "code",
   "execution_count": null,
   "id": "171876b1",
   "metadata": {},
   "outputs": [],
   "source": [
    "data_clean['Time_of_Impact(hr)'].describe()"
   ]
  },
  {
   "cell_type": "markdown",
   "id": "19d52f12",
   "metadata": {},
   "source": [
    "## Clean up Bad Data Identified in Prior Exploration"
   ]
  },
  {
   "cell_type": "markdown",
   "id": "a2549455",
   "metadata": {},
   "source": [
    "### Time"
   ]
  },
  {
   "cell_type": "code",
   "execution_count": null,
   "id": "5ac93c0d",
   "metadata": {},
   "outputs": [],
   "source": []
  },
  {
   "cell_type": "markdown",
   "id": "b7150ae2",
   "metadata": {},
   "source": [
    "### Distance"
   ]
  },
  {
   "cell_type": "code",
   "execution_count": null,
   "id": "8dad5466",
   "metadata": {},
   "outputs": [],
   "source": []
  },
  {
   "cell_type": "markdown",
   "id": "0521fc66",
   "metadata": {},
   "source": [
    "## Feature Engineering"
   ]
  },
  {
   "cell_type": "markdown",
   "id": "b25ae531",
   "metadata": {},
   "source": [
    "### Partition the time data"
   ]
  },
  {
   "cell_type": "code",
   "execution_count": null,
   "id": "be829af6",
   "metadata": {},
   "outputs": [],
   "source": []
  },
  {
   "cell_type": "code",
   "execution_count": null,
   "id": "741949f8",
   "metadata": {},
   "outputs": [],
   "source": []
  },
  {
   "cell_type": "code",
   "execution_count": null,
   "id": "4f61107b",
   "metadata": {},
   "outputs": [],
   "source": []
  },
  {
   "cell_type": "markdown",
   "id": "34b921f4",
   "metadata": {},
   "source": [
    "### Weekend"
   ]
  },
  {
   "cell_type": "code",
   "execution_count": null,
   "id": "dda479a0",
   "metadata": {},
   "outputs": [],
   "source": []
  },
  {
   "cell_type": "markdown",
   "id": "ddf0bfae",
   "metadata": {},
   "source": [
    "### Holidays\n",
    "Per __[Google](https://www.google.com/search?client=safari&rls=en&q=holidays+with+most+traffic&ie=UTF-8&oe=UTF-8)__, there are a number of holidays in the US with the highest amount of traffic.  (I subbed NYE in for XMas.)"
   ]
  },
  {
   "cell_type": "code",
   "execution_count": null,
   "id": "b367f009",
   "metadata": {},
   "outputs": [],
   "source": []
  },
  {
   "cell_type": "code",
   "execution_count": null,
   "id": "835730bc",
   "metadata": {},
   "outputs": [],
   "source": []
  },
  {
   "cell_type": "code",
   "execution_count": null,
   "id": "f285c167",
   "metadata": {},
   "outputs": [],
   "source": []
  },
  {
   "cell_type": "code",
   "execution_count": null,
   "id": "ce398736",
   "metadata": {},
   "outputs": [],
   "source": []
  },
  {
   "cell_type": "markdown",
   "id": "b5f88b5b",
   "metadata": {},
   "source": [
    "### Rush Hour Indicator\n",
    "\n",
    "__[Per Google:  ](https://www.google.com/search?client=safari&rls=en&q=rush+hour+typically&ie=UTF-8&oe=UTF-8)__ The morning rush hour begins around 6a, peaking between 7a & 9a, and eases off by 10a.  While afternoon/evening rush hour begins around 3p, peaking between 4p and 6p, and eases off by 7p."
   ]
  },
  {
   "cell_type": "code",
   "execution_count": null,
   "id": "73f0c294",
   "metadata": {},
   "outputs": [],
   "source": []
  },
  {
   "cell_type": "code",
   "execution_count": null,
   "id": "9f3b024b",
   "metadata": {},
   "outputs": [],
   "source": []
  },
  {
   "cell_type": "code",
   "execution_count": null,
   "id": "b49e0993",
   "metadata": {},
   "outputs": [],
   "source": []
  },
  {
   "cell_type": "markdown",
   "id": "5ef062e6",
   "metadata": {},
   "source": [
    "### Attach Location-Based Data to DF"
   ]
  },
  {
   "cell_type": "markdown",
   "id": "6c3e965d",
   "metadata": {},
   "source": [
    "Resources\n",
    "\n",
    "https://www.faa.gov/air_traffic/publications/atpubs/cnt_html/appendix_a.html\n",
    "\n",
    "\n",
    "https://apps.bea.gov/regional/geography.htm\n",
    "\n",
    "https://en.wikipedia.org/wiki/List_of_regions_of_the_United_States\n",
    "\n",
    "https://www2.census.gov/geo/pdfs/reference/GARM/Ch6GARM.pdf\n",
    "\n",
    "\n",
    "https://en.wikipedia.org/wiki/Megaregions_of_the_United_States"
   ]
  },
  {
   "cell_type": "markdown",
   "id": "984a8dfe",
   "metadata": {},
   "source": [
    "### Consider Street Type Feature(s)"
   ]
  },
  {
   "cell_type": "code",
   "execution_count": null,
   "id": "cd50c8af",
   "metadata": {},
   "outputs": [],
   "source": []
  },
  {
   "cell_type": "markdown",
   "id": "7ba60879",
   "metadata": {},
   "source": [
    "## Saveout Data"
   ]
  },
  {
   "cell_type": "code",
   "execution_count": null,
   "id": "89644c68",
   "metadata": {},
   "outputs": [],
   "source": [
    "if _LITE_SWITCH_:\n",
    "    data_clean.to_csv('AccidentData_Sampled_Clean.csv')\n",
    "else:\n",
    "    data_clean.to_csv('AccidentData_Clean.csv')"
   ]
  },
  {
   "cell_type": "code",
   "execution_count": null,
   "id": "69f065f9",
   "metadata": {},
   "outputs": [],
   "source": [
    "del data_clean\n",
    "if _SPARK_:\n",
    "    spark.stop()\n",
    "else:\n",
    "    pass"
   ]
  },
  {
   "cell_type": "markdown",
   "id": "b8ce46e6",
   "metadata": {},
   "source": [
    "# Full EDA\n",
    "Now with cleaned up data with additional features, there are still some areas of exploration that I want to cover to help inform A) possible other features and B) the statistical analyses."
   ]
  },
  {
   "cell_type": "code",
   "execution_count": null,
   "id": "fdd0141b",
   "metadata": {},
   "outputs": [],
   "source": [
    "if _SPARK_:\n",
    "    spark = SparkSession.builder.appName(\"Accident Data Project\").getOrCreate()\n",
    "    data = spark.read.csv('AccidentData_Clean.csv',header=True,inferSchema=True)\n",
    "else:\n",
    "    if _LITE_SWITCH_:\n",
    "        data = pd.read_csv('AccidentData_Sampled_Clean.csv')\n",
    "    else:\n",
    "        data = pd.read_csv('AccidentData_Clean.csv')\n",
    "    "
   ]
  },
  {
   "cell_type": "code",
   "execution_count": null,
   "id": "c808c971",
   "metadata": {},
   "outputs": [],
   "source": [
    "if _SPARK_:\n",
    "    data.printSchema()\n",
    "    print(\"Features: \",len(data.columns))\n",
    "    print(\"Entries:  \",data.count())\n",
    "else:\n",
    "    data.info()"
   ]
  },
  {
   "cell_type": "code",
   "execution_count": null,
   "id": "0e015737",
   "metadata": {},
   "outputs": [],
   "source": [
    "_TARGET_ = ['Severity']\n",
    "_NUMERICS_ = ['Distance(mi)','Time_of_Impact(hr)','Temperature(F)',\n",
    "              'Wind_Chill(F)','Humidity(%)','Pressure(in)',\n",
    "              'Visibility(mi)','Wind_Speed(mph)','Precipitation(in)']"
   ]
  },
  {
   "cell_type": "markdown",
   "id": "377ae790",
   "metadata": {},
   "source": [
    "## Nature of Incident Variables"
   ]
  },
  {
   "cell_type": "code",
   "execution_count": null,
   "id": "a89796be",
   "metadata": {},
   "outputs": [],
   "source": []
  },
  {
   "cell_type": "code",
   "execution_count": null,
   "id": "48585451",
   "metadata": {},
   "outputs": [],
   "source": []
  },
  {
   "cell_type": "markdown",
   "id": "b01fbb7b",
   "metadata": {},
   "source": [
    "## Relationships between Continous Variables"
   ]
  },
  {
   "cell_type": "code",
   "execution_count": null,
   "id": "142c9957",
   "metadata": {},
   "outputs": [],
   "source": [
    "if _SPARK_:\n",
    "    corr_data = data.select(_NUMERICS_+['Severity'])\n",
    "    col_names = corr_data.columns\n",
    "    features = corr_data.rdd.map(lambda row: row[0:]) \n",
    "    corrs = Statistics.corr(features, method=\"pearson\")\n",
    "else:\n",
    "    corrs = data[_NUMERICS_].corr()\n",
    "    print(corrs)\n",
    "   "
   ]
  },
  {
   "cell_type": "code",
   "execution_count": null,
   "id": "e745c8aa",
   "metadata": {},
   "outputs": [],
   "source": [
    "sns.heatmap(corrs,vmin=-1,vmax=1,cmap='coolwarm');"
   ]
  },
  {
   "cell_type": "markdown",
   "id": "fa186c2b",
   "metadata": {},
   "source": [
    "Comments"
   ]
  },
  {
   "cell_type": "markdown",
   "id": "62294b57",
   "metadata": {},
   "source": [
    "## Dates"
   ]
  },
  {
   "cell_type": "code",
   "execution_count": null,
   "id": "904ddadb",
   "metadata": {},
   "outputs": [],
   "source": [
    "if _SPARK_:\n",
    "    accdidents_year = data.stat.crosstab('Year','Severity')\n",
    "else:\n",
    "    accdidents_year = pd.crosstab(data['Year'],data['Severity'])\n",
    "\n",
    "    accdidents_year['Total']=accdidents_year.sum(axis=1)\n",
    "    accdidents_year['Average']=accdidents_year.apply(lambda r:sum(i*r[i] for i in range(1,5))/r['Total'],axis=1)\n",
    "    accidents_calendar = pd.pivot_table(data,columns='Year',index='Month',values='Severity')"
   ]
  },
  {
   "cell_type": "code",
   "execution_count": null,
   "id": "871f931a",
   "metadata": {},
   "outputs": [],
   "source": [
    "display(accdidents_year)\n",
    "print('*'*75)\n",
    "display(accidents_calendar)"
   ]
  },
  {
   "cell_type": "markdown",
   "id": "f8a595d0",
   "metadata": {},
   "source": [
    "Comments & Concerns"
   ]
  },
  {
   "cell_type": "markdown",
   "id": "8cda5a22",
   "metadata": {},
   "source": [
    "Other Cross Tabs"
   ]
  },
  {
   "cell_type": "code",
   "execution_count": null,
   "id": "a78572a0",
   "metadata": {},
   "outputs": [],
   "source": []
  },
  {
   "cell_type": "code",
   "execution_count": null,
   "id": "ea509841",
   "metadata": {},
   "outputs": [],
   "source": []
  },
  {
   "cell_type": "code",
   "execution_count": null,
   "id": "bf570158",
   "metadata": {},
   "outputs": [],
   "source": []
  },
  {
   "cell_type": "markdown",
   "id": "f08bf686",
   "metadata": {},
   "source": [
    "### Infrastructure"
   ]
  },
  {
   "cell_type": "code",
   "execution_count": null,
   "id": "36779971",
   "metadata": {},
   "outputs": [],
   "source": [
    "infrastructure_count = pd.DataFrame(columns=infrastructures)"
   ]
  },
  {
   "cell_type": "code",
   "execution_count": null,
   "id": "d3c42649",
   "metadata": {},
   "outputs": [],
   "source": []
  },
  {
   "cell_type": "code",
   "execution_count": null,
   "id": "852e15d8",
   "metadata": {},
   "outputs": [],
   "source": []
  },
  {
   "cell_type": "markdown",
   "id": "f4c67706",
   "metadata": {},
   "source": [
    "### Weather Conditions"
   ]
  },
  {
   "cell_type": "code",
   "execution_count": null,
   "id": "a2d289da",
   "metadata": {},
   "outputs": [
    {
     "name": "stdout",
     "output_type": "stream",
     "text": [
      "There are 145 ways that the weather is described in this dataset: \n",
      "\n",
      "['Light Rain' 'Overcast' 'Mostly Cloudy' 'Rain' 'Light Snow' 'Haze'\n",
      " 'Scattered Clouds' 'Partly Cloudy' 'Clear' 'Snow'\n",
      " 'Light Freezing Drizzle' 'Light Drizzle' 'Fog' 'Shallow Fog' 'Heavy Rain'\n",
      " 'Light Freezing Rain' 'Cloudy' 'Drizzle' nan 'Light Rain Showers' 'Mist'\n",
      " 'Smoke' 'Patches of Fog' 'Light Freezing Fog' 'Light Haze'\n",
      " 'Light Thunderstorms and Rain' 'Thunderstorms and Rain' 'Fair'\n",
      " 'Volcanic Ash' 'Blowing Sand' 'Blowing Dust / Windy' 'Widespread Dust'\n",
      " 'Fair / Windy' 'Rain Showers' 'Mostly Cloudy / Windy'\n",
      " 'Light Rain / Windy' 'Hail' 'Heavy Drizzle' 'Showers in the Vicinity'\n",
      " 'Thunderstorm' 'Light Rain Shower' 'Light Rain with Thunder'\n",
      " 'Partly Cloudy / Windy' 'Thunder in the Vicinity' 'T-Storm'\n",
      " 'Heavy Thunderstorms and Rain' 'Thunder' 'Heavy T-Storm' 'Funnel Cloud'\n",
      " 'Heavy T-Storm / Windy' 'Blowing Snow' 'Light Thunderstorms and Snow'\n",
      " 'Heavy Snow' 'Low Drifting Snow' 'Light Ice Pellets' 'Ice Pellets'\n",
      " 'Squalls' 'N/A Precipitation' 'Cloudy / Windy' 'Light Fog' 'Sand'\n",
      " 'Snow Grains' 'Snow Showers' 'Heavy Thunderstorms and Snow'\n",
      " 'Rain / Windy' 'Heavy Rain / Windy' 'Heavy Ice Pellets'\n",
      " 'Light Snow / Windy' 'Heavy Freezing Rain' 'Small Hail'\n",
      " 'Heavy Rain Showers' 'Thunder / Windy' 'Drizzle and Fog'\n",
      " 'T-Storm / Windy' 'Blowing Dust' 'Smoke / Windy' 'Haze / Windy' 'Tornado'\n",
      " 'Light Drizzle / Windy' 'Widespread Dust / Windy' 'Wintry Mix'\n",
      " 'Wintry Mix / Windy' 'Light Snow with Thunder' 'Fog / Windy'\n",
      " 'Snow and Thunder' 'Light Snow Shower' 'Sleet' 'Light Snow and Sleet'\n",
      " 'Snow / Windy' 'Rain Shower' 'Snow and Sleet' 'Light Sleet'\n",
      " 'Heavy Snow / Windy' 'Freezing Drizzle' 'Light Freezing Rain / Windy'\n",
      " 'Thunder / Wintry Mix' 'Blowing Snow / Windy' 'Freezing Rain'\n",
      " 'Light Snow and Sleet / Windy' 'Snow and Sleet / Windy' 'Sleet / Windy'\n",
      " 'Heavy Freezing Rain / Windy' 'Squalls / Windy'\n",
      " 'Light Rain Shower / Windy' 'Snow and Thunder / Windy'\n",
      " 'Light Sleet / Windy' 'Sand / Dust Whirlwinds' 'Mist / Windy'\n",
      " 'Drizzle / Windy' 'Duststorm' 'Sand / Dust Whirls Nearby'\n",
      " 'Thunder and Hail' 'Heavy Sleet' 'Freezing Rain / Windy'\n",
      " 'Light Snow Shower / Windy' 'Partial Fog' 'Thunder / Wintry Mix / Windy'\n",
      " 'Patches of Fog / Windy' 'Rain and Sleet' 'Light Snow Grains'\n",
      " 'Partial Fog / Windy' 'Sand / Dust Whirlwinds / Windy'\n",
      " 'Heavy Snow with Thunder' 'Light Snow Showers' 'Heavy Blowing Snow'\n",
      " 'Light Hail' 'Heavy Smoke' 'Heavy Thunderstorms with Small Hail'\n",
      " 'Light Thunderstorm' 'Heavy Freezing Drizzle' 'Light Blowing Snow'\n",
      " 'Thunderstorms and Snow' 'Dust Whirls' 'Rain Shower / Windy'\n",
      " 'Sleet and Thunder' 'Heavy Sleet and Thunder' 'Drifting Snow / Windy'\n",
      " 'Shallow Fog / Windy' 'Thunder and Hail / Windy' 'Heavy Sleet / Windy'\n",
      " 'Sand / Windy' 'Heavy Rain Shower / Windy' 'Blowing Snow Nearby'\n",
      " 'Heavy Rain Shower' 'Drifting Snow']\n"
     ]
    }
   ],
   "source": [
    "weather_descriptions = data.Weather_Condition.unique()\n",
    "print(f'There are {weather_descriptions.shape[0]} ways that the weather is described in this dataset: \\n')\n",
    "print(weather_descriptions)"
   ]
  },
  {
   "cell_type": "code",
   "execution_count": null,
   "id": "be12dbcf",
   "metadata": {},
   "outputs": [],
   "source": [
    "description_counts = data.Weather_Condition.value_counts(dropna=False,normalize=True)\n",
    "description_counts.sort_values(ascending=False)"
   ]
  },
  {
   "cell_type": "markdown",
   "id": "41e1eebe",
   "metadata": {},
   "source": [
    "To use this feature, we need to consolidate somehow.  But first..."
   ]
  },
  {
   "cell_type": "markdown",
   "id": "666ce4ba",
   "metadata": {},
   "source": [
    "### Exploration of Weather Condition Consolidation\n",
    "\n",
    "Is there a way, we can use the continous features to create a consolidated but meaningful feature which maybe can improve on the categorical weather feature. "
   ]
  },
  {
   "cell_type": "markdown",
   "id": "d932e2e2",
   "metadata": {},
   "source": [
    "#### PCA"
   ]
  },
  {
   "cell_type": "code",
   "execution_count": null,
   "id": "d8ad02dc",
   "metadata": {},
   "outputs": [],
   "source": []
  },
  {
   "cell_type": "code",
   "execution_count": null,
   "id": "d4e7111a",
   "metadata": {},
   "outputs": [],
   "source": []
  },
  {
   "cell_type": "code",
   "execution_count": null,
   "id": "36b25a9f",
   "metadata": {},
   "outputs": [],
   "source": []
  },
  {
   "cell_type": "markdown",
   "id": "fb6a39eb",
   "metadata": {},
   "source": [
    "#### K-Means Clustering"
   ]
  },
  {
   "cell_type": "code",
   "execution_count": null,
   "id": "b9ac1bc9",
   "metadata": {},
   "outputs": [],
   "source": []
  },
  {
   "cell_type": "code",
   "execution_count": null,
   "id": "e7e28a9b",
   "metadata": {},
   "outputs": [],
   "source": []
  },
  {
   "cell_type": "code",
   "execution_count": null,
   "id": "6d93d177",
   "metadata": {},
   "outputs": [],
   "source": []
  },
  {
   "cell_type": "markdown",
   "id": "15c35d4d",
   "metadata": {},
   "source": [
    "#### Decision"
   ]
  },
  {
   "cell_type": "markdown",
   "id": "5b6459df",
   "metadata": {},
   "source": []
  },
  {
   "cell_type": "markdown",
   "id": "65a5a8bf",
   "metadata": {},
   "source": [
    "### Final Saveout"
   ]
  },
  {
   "cell_type": "code",
   "execution_count": null,
   "id": "a9f691fc",
   "metadata": {},
   "outputs": [],
   "source": [
    "if _LITE_SWITCH_:\n",
    "    data_clean.to_csv('AccidentData_Sampled_Clean_2.csv')\n",
    "else:\n",
    "    data_clean.to_csv('AccidentData_Clean_2.csv')"
   ]
  },
  {
   "cell_type": "code",
   "execution_count": null,
   "id": "4a7f3fa0",
   "metadata": {},
   "outputs": [],
   "source": [
    "del data_clean\n",
    "if _SPARK_:\n",
    "    spark.stop()\n",
    "else:\n",
    "    pass"
   ]
  },
  {
   "cell_type": "markdown",
   "id": "53470b30",
   "metadata": {},
   "source": [
    "# Statistical Analyses"
   ]
  },
  {
   "cell_type": "markdown",
   "id": "e91f1c0b",
   "metadata": {},
   "source": [
    "Description of the three primary tests that are going to be run for all of these categorical features..."
   ]
  },
  {
   "cell_type": "code",
   "execution_count": null,
   "id": "4ad966c6",
   "metadata": {},
   "outputs": [],
   "source": [
    "if _SPARK_:\n",
    "    spark = SparkSession.builder.appName(\"Accident Data Project\").getOrCreate()\n",
    "    data = spark.read.csv('AccidentData_Clean_2.csv',header=True,inferSchema=True)\n",
    "else:\n",
    "    if _LITE_SWITCH_:\n",
    "        data = pd.read_csv('AccidentData_Sampled_Clean_2.csv')\n",
    "    else:\n",
    "        data = pd.read_csv('AccidentData_Clean_2.csv')\n",
    "    "
   ]
  },
  {
   "cell_type": "markdown",
   "id": "15cdbd9b",
   "metadata": {},
   "source": [
    "## Nature-of-Accident Features vs. Each Other"
   ]
  },
  {
   "cell_type": "code",
   "execution_count": null,
   "id": "1860a6c9",
   "metadata": {},
   "outputs": [],
   "source": []
  },
  {
   "cell_type": "code",
   "execution_count": null,
   "id": "5df6c307",
   "metadata": {},
   "outputs": [],
   "source": []
  },
  {
   "cell_type": "markdown",
   "id": "b6efa284",
   "metadata": {},
   "source": [
    "Comments"
   ]
  },
  {
   "cell_type": "code",
   "execution_count": null,
   "id": "ac1ccd0d",
   "metadata": {},
   "outputs": [],
   "source": [
    "del model_distVseverity, model_timeVseverity\n",
    "del anova_table_distVSeverity, anova_table_timeVseverity\n",
    "del p_val"
   ]
  },
  {
   "cell_type": "code",
   "execution_count": null,
   "id": "b5f334fa",
   "metadata": {},
   "outputs": [],
   "source": []
  },
  {
   "cell_type": "markdown",
   "id": "967507ef",
   "metadata": {},
   "source": [
    "## Weather-Related\n"
   ]
  },
  {
   "cell_type": "code",
   "execution_count": null,
   "id": "e4284578",
   "metadata": {},
   "outputs": [],
   "source": [
    "if _SPARK_:\n",
    "    spark = SparkSession.builder.appName(\"Accident Data Project\").getOrCreate()\n",
    "    data = spark.read.csv('AccidentData_Clean_2.csv',header=True,inferSchema=True)\n",
    "else:\n",
    "    if _LITE_SWITCH_:\n",
    "        data = pd.read_csv('AccidentData_Sampled_Clean_2.csv')\n",
    "    else:\n",
    "        data = pd.read_csv('AccidentData_Clean_2.csv',usecols = ['Weather_Condition','Distance(mi)','Time_of_Impact(hr)'])\n",
    "    "
   ]
  },
  {
   "cell_type": "code",
   "execution_count": null,
   "id": "c6cde95f",
   "metadata": {},
   "outputs": [],
   "source": []
  },
  {
   "cell_type": "markdown",
   "id": "907b5403",
   "metadata": {},
   "source": [
    "## Calendar-Related"
   ]
  },
  {
   "cell_type": "code",
   "execution_count": null,
   "id": "82f8d3dc",
   "metadata": {},
   "outputs": [],
   "source": [
    "if _SPARK_:\n",
    "    spark = SparkSession.builder.appName(\"Accident Data Project\").getOrCreate()\n",
    "    data = spark.read.csv('AccidentData_Clean_2.csv',header=True,inferSchema=True)\n",
    "else:\n",
    "    if _LITE_SWITCH_:\n",
    "        data = pd.read_csv('AccidentData_Sampled_Clean_2.csv')\n",
    "    else:\n",
    "        tgt_cols = ['Month','Quarter','Year','DayofWeek','Weekend','Holiday']\n",
    "        tgt_cols = tgt_cols + ['Hour','Morning_Rush','Evening_Rush','Sunrise_Sunset']\n",
    "        data = pd.read_csv('AccidentData_Clean.csv',usecols = tgt_cols+['Severity','Distance(mi)','Time_of_Impact(hr)'])\n",
    "    "
   ]
  },
  {
   "cell_type": "markdown",
   "id": "f7acd289",
   "metadata": {},
   "source": [
    "### YoY Difference?"
   ]
  },
  {
   "cell_type": "code",
   "execution_count": null,
   "id": "8fdd7a7f",
   "metadata": {},
   "outputs": [],
   "source": []
  },
  {
   "cell_type": "markdown",
   "id": "4470435e",
   "metadata": {},
   "source": [
    "Comments"
   ]
  },
  {
   "cell_type": "markdown",
   "id": "e4e43678",
   "metadata": {},
   "source": [
    "### Quarterly Difference?"
   ]
  },
  {
   "cell_type": "code",
   "execution_count": null,
   "id": "d232d1fa",
   "metadata": {},
   "outputs": [],
   "source": []
  },
  {
   "cell_type": "markdown",
   "id": "a272ca11",
   "metadata": {},
   "source": [
    "Comments"
   ]
  },
  {
   "cell_type": "markdown",
   "id": "9877e9ba",
   "metadata": {},
   "source": [
    "### Monthly ?"
   ]
  },
  {
   "cell_type": "code",
   "execution_count": null,
   "id": "07d29cbc",
   "metadata": {},
   "outputs": [],
   "source": []
  },
  {
   "cell_type": "markdown",
   "id": "919581d4",
   "metadata": {},
   "source": [
    "Comments"
   ]
  },
  {
   "cell_type": "markdown",
   "id": "4bfb04d1",
   "metadata": {},
   "source": [
    "### Day of Week?"
   ]
  },
  {
   "cell_type": "code",
   "execution_count": null,
   "id": "e873fa8a",
   "metadata": {},
   "outputs": [],
   "source": []
  },
  {
   "cell_type": "markdown",
   "id": "f0b5030b",
   "metadata": {},
   "source": [
    "Comments"
   ]
  },
  {
   "cell_type": "markdown",
   "id": "bed2cae3",
   "metadata": {},
   "source": [
    "### Weekends?"
   ]
  },
  {
   "cell_type": "code",
   "execution_count": null,
   "id": "496462de",
   "metadata": {},
   "outputs": [],
   "source": []
  },
  {
   "cell_type": "markdown",
   "id": "30ac6442",
   "metadata": {},
   "source": [
    "Comments"
   ]
  },
  {
   "cell_type": "markdown",
   "id": "e47ef969",
   "metadata": {},
   "source": [
    "### Holidays?"
   ]
  },
  {
   "cell_type": "code",
   "execution_count": null,
   "id": "e19af187",
   "metadata": {},
   "outputs": [],
   "source": []
  },
  {
   "cell_type": "markdown",
   "id": "23acffe9",
   "metadata": {},
   "source": [
    "Comments"
   ]
  },
  {
   "cell_type": "markdown",
   "id": "e142e2cf",
   "metadata": {},
   "source": [
    "#### Holidays vs. Weekends?"
   ]
  },
  {
   "cell_type": "code",
   "execution_count": null,
   "id": "8ed4fa98",
   "metadata": {},
   "outputs": [],
   "source": []
  },
  {
   "cell_type": "markdown",
   "id": "be012f9f",
   "metadata": {},
   "source": [
    "Comments"
   ]
  },
  {
   "cell_type": "markdown",
   "id": "de574ce9",
   "metadata": {},
   "source": [
    "## Time of Day?"
   ]
  },
  {
   "cell_type": "markdown",
   "id": "6f665973",
   "metadata": {},
   "source": [
    "### Hourly?"
   ]
  },
  {
   "cell_type": "code",
   "execution_count": null,
   "id": "f83f3221",
   "metadata": {},
   "outputs": [],
   "source": []
  },
  {
   "cell_type": "markdown",
   "id": "01f9883b",
   "metadata": {},
   "source": [
    "Comments"
   ]
  },
  {
   "cell_type": "markdown",
   "id": "06bf079d",
   "metadata": {},
   "source": [
    "### Rush Hours?\n"
   ]
  },
  {
   "cell_type": "code",
   "execution_count": null,
   "id": "34b35ab5",
   "metadata": {},
   "outputs": [],
   "source": []
  },
  {
   "cell_type": "code",
   "execution_count": null,
   "id": "e8e9f4a5",
   "metadata": {},
   "outputs": [],
   "source": []
  },
  {
   "cell_type": "code",
   "execution_count": null,
   "id": "3cdbd53a",
   "metadata": {},
   "outputs": [],
   "source": []
  },
  {
   "cell_type": "markdown",
   "id": "5de79850",
   "metadata": {},
   "source": [
    "### Day/Night?"
   ]
  },
  {
   "cell_type": "code",
   "execution_count": null,
   "id": "ee5fa1ae",
   "metadata": {},
   "outputs": [],
   "source": []
  },
  {
   "cell_type": "markdown",
   "id": "eeb83807",
   "metadata": {},
   "source": [
    "Comments"
   ]
  },
  {
   "cell_type": "markdown",
   "id": "ed8b520a",
   "metadata": {},
   "source": []
  },
  {
   "cell_type": "markdown",
   "id": "f79eea1c",
   "metadata": {},
   "source": [
    "## Location-Related"
   ]
  },
  {
   "cell_type": "markdown",
   "id": "7cb23721",
   "metadata": {},
   "source": []
  },
  {
   "cell_type": "code",
   "execution_count": 5,
   "id": "df1b02ff",
   "metadata": {},
   "outputs": [
    {
     "ename": "NameError",
     "evalue": "name '_LITE_SWITCH_' is not defined",
     "output_type": "error",
     "traceback": [
      "\u001b[0;31m---------------------------------------------------------------------------\u001b[0m",
      "\u001b[0;31mNameError\u001b[0m                                 Traceback (most recent call last)",
      "Cell \u001b[0;32mIn[5], line 1\u001b[0m\n\u001b[0;32m----> 1\u001b[0m \u001b[38;5;28;01mif\u001b[39;00m _LITE_SWITCH_:\n\u001b[1;32m      2\u001b[0m     \u001b[38;5;28;01mpass\u001b[39;00m\n\u001b[1;32m      3\u001b[0m \u001b[38;5;28;01melif\u001b[39;00m _SPARK_:\n",
      "\u001b[0;31mNameError\u001b[0m: name '_LITE_SWITCH_' is not defined"
     ]
    }
   ],
   "source": [
    "if _LITE_SWITCH_:\n",
    "    pass\n",
    "elif _SPARK_:\n",
    "    pass\n",
    "else:\n",
    "    try:\n",
    "        del data\n",
    "        del reports, stats\n",
    "    except:\n",
    "        pass\n",
    "    "
   ]
  },
  {
   "cell_type": "code",
   "execution_count": null,
   "id": "2ca6b15c",
   "metadata": {},
   "outputs": [],
   "source": [
    "if _SPARK_:\n",
    "    spark = SparkSession.builder.appName(\"Accident Data Project\").getOrCreate()\n",
    "    data = spark.read.csv('AccidentData_Clean.csv',header=True,inferSchema=True)\n",
    "else:\n",
    "    if _LITE_SWITCH_:\n",
    "        data = pd.read_csv('AccidentData_Sampled_Clean.csv')\n",
    "    else:\n",
    "        tgt_cols = ['State']\n",
    "        data = pd.read_csv('AccidentData_Clean.csv',usecols = tgt_cols + ['Severity','Distance(mi)','Time_of_Impact(hr)'])\n",
    "    "
   ]
  },
  {
   "cell_type": "markdown",
   "id": "87ea62ac",
   "metadata": {},
   "source": [
    "### By State"
   ]
  },
  {
   "cell_type": "code",
   "execution_count": null,
   "id": "e89af6f9",
   "metadata": {},
   "outputs": [],
   "source": []
  },
  {
   "cell_type": "code",
   "execution_count": null,
   "id": "ef137f6f",
   "metadata": {},
   "outputs": [],
   "source": []
  },
  {
   "cell_type": "code",
   "execution_count": null,
   "id": "abdcfd76",
   "metadata": {},
   "outputs": [],
   "source": []
  },
  {
   "cell_type": "markdown",
   "id": "b8f767be",
   "metadata": {},
   "source": [
    "### Infrastructure"
   ]
  },
  {
   "cell_type": "code",
   "execution_count": null,
   "id": "faa1fafa",
   "metadata": {},
   "outputs": [],
   "source": [
    "infrastructures = ['Amenity','Bump','Crossing','Give_Way',\n",
    "                   'Junction','No_Exit','Railway','Roundabout',\n",
    "                   'Station','Stop','Traffic_Calming','Traffic_Signal',\n",
    "                   'Turning_Loop'\n",
    "                   ]"
   ]
  },
  {
   "cell_type": "code",
   "execution_count": null,
   "id": "8282e96b",
   "metadata": {},
   "outputs": [],
   "source": [
    "if _SPARK_:\n",
    "    spark = SparkSession.builder.appName(\"Accident Data Project\").getOrCreate()\n",
    "    data = spark.read.csv('AccidentData_Clean.csv',header=True,inferSchema=True)\n",
    "else:\n",
    "    if _LITE_SWITCH_:\n",
    "        data = pd.read_csv('AccidentData_Sampled_Clean.csv')\n",
    "    else:\n",
    "        data = pd.read_csv('AccidentData_Clean.csv',usecols = infrastructures + ['Severity','Distance(mi)','Time_of_Impact(hr)'])\n",
    "    "
   ]
  },
  {
   "cell_type": "markdown",
   "id": "b66b28e3",
   "metadata": {},
   "source": []
  },
  {
   "cell_type": "markdown",
   "id": "11bca115",
   "metadata": {},
   "source": [
    "Commentary"
   ]
  },
  {
   "cell_type": "markdown",
   "id": "b5c5d835",
   "metadata": {},
   "source": []
  },
  {
   "cell_type": "markdown",
   "id": "b3ed2a5c",
   "metadata": {},
   "source": [
    "# 6-Advanced Analysis"
   ]
  },
  {
   "cell_type": "code",
   "execution_count": null,
   "id": "2b63d5cf",
   "metadata": {},
   "outputs": [],
   "source": []
  },
  {
   "cell_type": "code",
   "execution_count": null,
   "id": "923a2c3a",
   "metadata": {},
   "outputs": [],
   "source": []
  },
  {
   "cell_type": "code",
   "execution_count": null,
   "id": "b0089757",
   "metadata": {},
   "outputs": [],
   "source": []
  },
  {
   "cell_type": "markdown",
   "id": "c455d177",
   "metadata": {},
   "source": [
    "# 7-Insights & Conclusions"
   ]
  },
  {
   "cell_type": "markdown",
   "id": "14ab1a24",
   "metadata": {},
   "source": [
    "## Basic Insights"
   ]
  },
  {
   "cell_type": "markdown",
   "id": "6b40b186",
   "metadata": {},
   "source": [
    "### Annual Distinctions\n",
    "\n",
    "Number of Accidents; Distribution of Severities; Length of Impact"
   ]
  },
  {
   "cell_type": "code",
   "execution_count": null,
   "id": "94cbca2d",
   "metadata": {},
   "outputs": [],
   "source": []
  },
  {
   "cell_type": "markdown",
   "id": "68751bf8",
   "metadata": {},
   "source": [
    "### Temporal & Spatial Considerations\n",
    "\n",
    "How do accident counts relate to different times of the day and for different region types (urban vs rural)?"
   ]
  },
  {
   "cell_type": "code",
   "execution_count": null,
   "id": "b5ccf8ad",
   "metadata": {},
   "outputs": [],
   "source": []
  },
  {
   "cell_type": "markdown",
   "id": "9b11f0be",
   "metadata": {},
   "source": [
    "### Weather Considerations\n",
    "Does certain weather conditions produce more severe incidents?  "
   ]
  },
  {
   "cell_type": "code",
   "execution_count": null,
   "id": "8b6c39e5",
   "metadata": {},
   "outputs": [],
   "source": []
  },
  {
   "cell_type": "markdown",
   "id": "d6158716",
   "metadata": {},
   "source": [
    "## Severity Prediction"
   ]
  },
  {
   "cell_type": "code",
   "execution_count": null,
   "id": "983d7223",
   "metadata": {},
   "outputs": [],
   "source": []
  },
  {
   "cell_type": "markdown",
   "id": "0f7f4256",
   "metadata": {},
   "source": [
    "## Advanced (Wish List) Analysis"
   ]
  },
  {
   "cell_type": "markdown",
   "id": "e7394e4c",
   "metadata": {},
   "source": [
    "### Unusual Weather \n",
    "\n",
    "Does driving in unexpected weather--based on area, time of year and/or both--create a higher likelihood of an accident."
   ]
  },
  {
   "cell_type": "code",
   "execution_count": null,
   "id": "b0d593f8",
   "metadata": {},
   "outputs": [],
   "source": []
  },
  {
   "cell_type": "markdown",
   "id": "61c08b1a",
   "metadata": {},
   "source": [
    "### Famous Highways"
   ]
  },
  {
   "cell_type": "code",
   "execution_count": null,
   "id": "064387c6",
   "metadata": {},
   "outputs": [],
   "source": []
  },
  {
   "cell_type": "markdown",
   "id": "36aeafa3",
   "metadata": {},
   "source": [
    "## Highway's Near Urban Areas\n",
    "\n",
    "For cross-state"
   ]
  },
  {
   "cell_type": "code",
   "execution_count": null,
   "id": "8ccbd6a8",
   "metadata": {},
   "outputs": [],
   "source": []
  },
  {
   "cell_type": "markdown",
   "id": "0c98d881",
   "metadata": {},
   "source": [
    "### Naturual Language\n",
    "\n",
    "Examination of the description feature."
   ]
  },
  {
   "cell_type": "code",
   "execution_count": null,
   "id": "ea192d3f",
   "metadata": {},
   "outputs": [],
   "source": []
  },
  {
   "cell_type": "markdown",
   "id": "c3b44906",
   "metadata": {},
   "source": [
    "### Safety Infrastructure\n",
    "Does certain road infrastructure projects help reduce the number of incidents?"
   ]
  },
  {
   "cell_type": "code",
   "execution_count": null,
   "id": "c2939b61",
   "metadata": {},
   "outputs": [],
   "source": []
  },
  {
   "cell_type": "markdown",
   "id": "da82e791",
   "metadata": {},
   "source": [
    "## New Traffic Pattern\n",
    "\n",
    "Does the existence of a new traffic pattern in the area increase the likelihood of an accident?"
   ]
  },
  {
   "cell_type": "code",
   "execution_count": null,
   "id": "c5009e57",
   "metadata": {},
   "outputs": [],
   "source": []
  },
  {
   "cell_type": "markdown",
   "id": "ca90418e",
   "metadata": {},
   "source": [
    "## Recent Accident Indicator\n",
    "\n",
    "Does the presence of one accident, predict another."
   ]
  },
  {
   "cell_type": "code",
   "execution_count": null,
   "id": "0ad7a4cd",
   "metadata": {},
   "outputs": [],
   "source": []
  }
 ],
 "metadata": {
  "kernelspec": {
   "display_name": "base",
   "language": "python",
   "name": "python3"
  },
  "language_info": {
   "codemirror_mode": {
    "name": "ipython",
    "version": 3
   },
   "file_extension": ".py",
   "mimetype": "text/x-python",
   "name": "python",
   "nbconvert_exporter": "python",
   "pygments_lexer": "ipython3",
   "version": "3.12.7"
  }
 },
 "nbformat": 4,
 "nbformat_minor": 5
}
